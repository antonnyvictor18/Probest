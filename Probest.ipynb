{
 "cells": [
  {
   "attachments": {},
   "cell_type": "markdown",
   "metadata": {},
   "source": [
    "# Introdução"
   ]
  },
  {
   "attachments": {},
   "cell_type": "markdown",
   "metadata": {},
   "source": [
    "## Importação de Bibliotecas Necessárias"
   ]
  },
  {
   "cell_type": "code",
   "execution_count": 1,
   "metadata": {
    "colab": {
     "base_uri": "https://localhost:8080/"
    },
    "id": "RqZ17nXusQOW",
    "outputId": "129c289f-7770-4db3-f88b-b3ce738f55d7"
   },
   "outputs": [],
   "source": [
    "import warnings\n",
    "import pandas as pd\n",
    "import numpy as np\n",
    "import matplotlib.pyplot as plt\n",
    "from scipy.stats import gamma, norm, probplot, pearsonr, power_divergence\n",
    "warnings.filterwarnings(\"ignore\")"
   ]
  },
  {
   "attachments": {},
   "cell_type": "markdown",
   "metadata": {},
   "source": [
    "## Declaração da Função do Método de Sturges "
   ]
  },
  {
   "cell_type": "code",
   "execution_count": 2,
   "metadata": {
    "id": "hvhVcCQEqbeq"
   },
   "outputs": [],
   "source": [
    "def sturges(dados_coluna):\n",
    "    return int(1 + 3.3 * np.log10(len(dados_coluna)))"
   ]
  },
  {
   "attachments": {},
   "cell_type": "markdown",
   "metadata": {},
   "source": [
    "## Carregamento das Bases de Dados"
   ]
  },
  {
   "cell_type": "code",
   "execution_count": 3,
   "metadata": {
    "id": "Qcgh1u1vsX6y"
   },
   "outputs": [],
   "source": [
    "dados_chromecast = pd.read_csv('dataset_chromecast.csv')\n",
    "dados_smartTv = pd.read_csv('dataset_smart-tv.csv')"
   ]
  },
  {
   "attachments": {},
   "cell_type": "markdown",
   "metadata": {},
   "source": [
    "## Familiarizando-se com as Tabelas"
   ]
  },
  {
   "attachments": {},
   "cell_type": "markdown",
   "metadata": {},
   "source": [
    "### Chromecast"
   ]
  },
  {
   "cell_type": "code",
   "execution_count": 14,
   "metadata": {
    "colab": {
     "base_uri": "https://localhost:8080/",
     "height": 206
    },
    "id": "Lq6i0xay-AvO",
    "outputId": "7fc11e51-b633-439a-a85f-d7a8be2413d5"
   },
   "outputs": [
    {
     "data": {
      "text/html": [
       "<div>\n",
       "<style scoped>\n",
       "    .dataframe tbody tr th:only-of-type {\n",
       "        vertical-align: middle;\n",
       "    }\n",
       "\n",
       "    .dataframe tbody tr th {\n",
       "        vertical-align: top;\n",
       "    }\n",
       "\n",
       "    .dataframe thead th {\n",
       "        text-align: right;\n",
       "    }\n",
       "</style>\n",
       "<table border=\"1\" class=\"dataframe\">\n",
       "  <thead>\n",
       "    <tr style=\"text-align: right;\">\n",
       "      <th></th>\n",
       "      <th>device_id</th>\n",
       "      <th>date_hour</th>\n",
       "      <th>bytes_up</th>\n",
       "      <th>bytes_down</th>\n",
       "    </tr>\n",
       "  </thead>\n",
       "  <tbody>\n",
       "    <tr>\n",
       "      <th>0</th>\n",
       "      <td>66161985</td>\n",
       "      <td>2021-09-06 00:01:00</td>\n",
       "      <td>2987.016393</td>\n",
       "      <td>49185.704918</td>\n",
       "    </tr>\n",
       "    <tr>\n",
       "      <th>1</th>\n",
       "      <td>66161985</td>\n",
       "      <td>2021-09-06 00:02:00</td>\n",
       "      <td>685.935484</td>\n",
       "      <td>328.258065</td>\n",
       "    </tr>\n",
       "    <tr>\n",
       "      <th>2</th>\n",
       "      <td>66161985</td>\n",
       "      <td>2021-09-06 00:03:00</td>\n",
       "      <td>4493.901639</td>\n",
       "      <td>37914.064516</td>\n",
       "    </tr>\n",
       "    <tr>\n",
       "      <th>3</th>\n",
       "      <td>66161985</td>\n",
       "      <td>2021-09-06 00:04:00</td>\n",
       "      <td>776.133333</td>\n",
       "      <td>229.200000</td>\n",
       "    </tr>\n",
       "    <tr>\n",
       "      <th>4</th>\n",
       "      <td>66161985</td>\n",
       "      <td>2021-09-06 00:05:00</td>\n",
       "      <td>3081.311475</td>\n",
       "      <td>51656.800000</td>\n",
       "    </tr>\n",
       "  </tbody>\n",
       "</table>\n",
       "</div>"
      ],
      "text/plain": [
       "   device_id            date_hour     bytes_up    bytes_down\n",
       "0   66161985  2021-09-06 00:01:00  2987.016393  49185.704918\n",
       "1   66161985  2021-09-06 00:02:00   685.935484    328.258065\n",
       "2   66161985  2021-09-06 00:03:00  4493.901639  37914.064516\n",
       "3   66161985  2021-09-06 00:04:00   776.133333    229.200000\n",
       "4   66161985  2021-09-06 00:05:00  3081.311475  51656.800000"
      ]
     },
     "execution_count": 14,
     "metadata": {},
     "output_type": "execute_result"
    }
   ],
   "source": [
    "dados_chromecast.head(5)"
   ]
  },
  {
   "attachments": {},
   "cell_type": "markdown",
   "metadata": {},
   "source": [
    "### SmartTV"
   ]
  },
  {
   "cell_type": "code",
   "execution_count": 15,
   "metadata": {
    "colab": {
     "base_uri": "https://localhost:8080/",
     "height": 206
    },
    "id": "-NEuD5g8-DNk",
    "outputId": "c3e0beeb-4c40-4e49-f9aa-0b77bf38bfc5"
   },
   "outputs": [
    {
     "data": {
      "text/html": [
       "<div>\n",
       "<style scoped>\n",
       "    .dataframe tbody tr th:only-of-type {\n",
       "        vertical-align: middle;\n",
       "    }\n",
       "\n",
       "    .dataframe tbody tr th {\n",
       "        vertical-align: top;\n",
       "    }\n",
       "\n",
       "    .dataframe thead th {\n",
       "        text-align: right;\n",
       "    }\n",
       "</style>\n",
       "<table border=\"1\" class=\"dataframe\">\n",
       "  <thead>\n",
       "    <tr style=\"text-align: right;\">\n",
       "      <th></th>\n",
       "      <th>device_id</th>\n",
       "      <th>date_hour</th>\n",
       "      <th>bytes_up</th>\n",
       "      <th>bytes_down</th>\n",
       "    </tr>\n",
       "  </thead>\n",
       "  <tbody>\n",
       "    <tr>\n",
       "      <th>0</th>\n",
       "      <td>77209603</td>\n",
       "      <td>2021-11-22 15:23:00</td>\n",
       "      <td>132932.983607</td>\n",
       "      <td>2.818140e+06</td>\n",
       "    </tr>\n",
       "    <tr>\n",
       "      <th>1</th>\n",
       "      <td>77209603</td>\n",
       "      <td>2021-11-22 15:24:00</td>\n",
       "      <td>115770.491803</td>\n",
       "      <td>2.264410e+06</td>\n",
       "    </tr>\n",
       "    <tr>\n",
       "      <th>2</th>\n",
       "      <td>77209603</td>\n",
       "      <td>2021-11-22 15:25:00</td>\n",
       "      <td>114030.032787</td>\n",
       "      <td>2.309270e+06</td>\n",
       "    </tr>\n",
       "    <tr>\n",
       "      <th>3</th>\n",
       "      <td>77209603</td>\n",
       "      <td>2021-11-22 15:26:00</td>\n",
       "      <td>97170.622951</td>\n",
       "      <td>2.006544e+06</td>\n",
       "    </tr>\n",
       "    <tr>\n",
       "      <th>4</th>\n",
       "      <td>77209603</td>\n",
       "      <td>2021-11-22 15:27:00</td>\n",
       "      <td>39569.573770</td>\n",
       "      <td>8.061440e+05</td>\n",
       "    </tr>\n",
       "  </tbody>\n",
       "</table>\n",
       "</div>"
      ],
      "text/plain": [
       "   device_id            date_hour       bytes_up    bytes_down\n",
       "0   77209603  2021-11-22 15:23:00  132932.983607  2.818140e+06\n",
       "1   77209603  2021-11-22 15:24:00  115770.491803  2.264410e+06\n",
       "2   77209603  2021-11-22 15:25:00  114030.032787  2.309270e+06\n",
       "3   77209603  2021-11-22 15:26:00   97170.622951  2.006544e+06\n",
       "4   77209603  2021-11-22 15:27:00   39569.573770  8.061440e+05"
      ]
     },
     "execution_count": 15,
     "metadata": {},
     "output_type": "execute_result"
    }
   ],
   "source": [
    "dados_smartTv.head(5)"
   ]
  },
  {
   "attachments": {},
   "cell_type": "markdown",
   "metadata": {},
   "source": [
    "## Tratamento de Dados"
   ]
  },
  {
   "attachments": {},
   "cell_type": "markdown",
   "metadata": {},
   "source": [
    "### Reescalonamento de Dados para Log 10"
   ]
  },
  {
   "attachments": {},
   "cell_type": "markdown",
   "metadata": {},
   "source": [
    "#### Chromecast"
   ]
  },
  {
   "cell_type": "code",
   "execution_count": 4,
   "metadata": {
    "id": "qJmvULJy9GWj"
   },
   "outputs": [],
   "source": [
    "dados_chromecast[\"log_bytes_down\"] = np.log(1 + dados_chromecast[\"bytes_down\"])\n",
    "dados_chromecast[\"log_bytes_up\"] = np.log(1 + dados_chromecast[\"bytes_up\"])"
   ]
  },
  {
   "attachments": {},
   "cell_type": "markdown",
   "metadata": {},
   "source": [
    "#### SmartTV"
   ]
  },
  {
   "cell_type": "code",
   "execution_count": 5,
   "metadata": {
    "id": "S4eZ6ing9pes"
   },
   "outputs": [],
   "source": [
    "dados_smartTv[\"log_bytes_down\"] = np.log(1 + dados_smartTv[\"bytes_down\"])\n",
    "dados_smartTv[\"log_bytes_up\"] = np.log(1 + dados_smartTv[\"bytes_up\"])"
   ]
  },
  {
   "attachments": {},
   "cell_type": "markdown",
   "metadata": {},
   "source": [
    "### Criando uma Nova Coluna chamada Hour"
   ]
  },
  {
   "attachments": {},
   "cell_type": "markdown",
   "metadata": {},
   "source": [
    "#### Chromecast"
   ]
  },
  {
   "cell_type": "code",
   "execution_count": 6,
   "metadata": {
    "id": "Ua_971Qt-GHF"
   },
   "outputs": [],
   "source": [
    "dados_chromecast[\"hour\"] = dados_chromecast[\"date_hour\"].apply(\n",
    "    lambda x: int(x.split(\" \")[1].split(\":\")[0])\n",
    ")"
   ]
  },
  {
   "attachments": {},
   "cell_type": "markdown",
   "metadata": {},
   "source": [
    "#### SmartTV"
   ]
  },
  {
   "cell_type": "code",
   "execution_count": 7,
   "metadata": {
    "id": "U2pybDw5-Wb0"
   },
   "outputs": [],
   "source": [
    "dados_smartTv[\"hour\"] = dados_smartTv[\"date_hour\"].apply(\n",
    "    lambda x: int(x.split(\" \")[1].split(\":\")[0])\n",
    ")"
   ]
  },
  {
   "attachments": {},
   "cell_type": "markdown",
   "metadata": {},
   "source": [
    "# Estatísticas Gerais"
   ]
  },
  {
   "attachments": {},
   "cell_type": "markdown",
   "metadata": {},
   "source": [
    "## Histogramas"
   ]
  },
  {
   "attachments": {},
   "cell_type": "markdown",
   "metadata": {},
   "source": [
    "### Histograma Frequência x Log₁₀(Bytes Up)"
   ]
  },
  {
   "attachments": {},
   "cell_type": "markdown",
   "metadata": {},
   "source": [
    "#### Chromecast"
   ]
  },
  {
   "cell_type": "code",
   "execution_count": 9,
   "metadata": {
    "colab": {
     "base_uri": "https://localhost:8080/",
     "height": 295
    },
    "id": "D0A44As0-hNX",
    "outputId": "c3913c8f-c1c8-49af-8777-8145f9cb2265"
   },
   "outputs": [
    {
     "data": {
      "image/png": "[encoded data removed]",
      "text/plain": [
       "<Figure size 640x480 with 1 Axes>"
      ]
     },
     "metadata": {},
     "output_type": "display_data"
    }
   ],
   "source": [
    "chromecast_hist_bin = sturges(dados_chromecast[\"log_bytes_up\"])\n",
    "fig = plt.figure()\n",
    "plt.hist(\n",
    "    dados_chromecast[\"log_bytes_up\"],\n",
    "    bins=chromecast_hist_bin,\n",
    "    color=\"blue\",\n",
    "    alpha=0.5,\n",
    "    edgecolor=\"black\",\n",
    ")\n",
    "plt.xlabel(\"Log Bytes Up\")\n",
    "plt.ylabel(\"Frequência\")\n",
    "plt.title(\"Histograma de Frequência x Log Bytes Up (Chromecast)\")\n",
    "fig.savefig(\n",
    "    \"Gráficos\\secao2\\Histograma\\Chromecast\\chromecast_hist_log_bytes_up.png\", \n",
    "    dpi=fig.dpi\n",
    ")\n",
    "plt.show()"
   ]
  },
  {
   "attachments": {},
   "cell_type": "markdown",
   "metadata": {},
   "source": [
    "#### SmartTV"
   ]
  },
  {
   "cell_type": "code",
   "execution_count": null,
   "metadata": {},
   "outputs": [],
   "source": [
    "smart_tv_hist_bin = sturges(dados_smartTv[\"log_bytes_up\"])\n",
    "fig = plt.figure()\n",
    "plt.hist(\n",
    "    dados_smartTv[\"log_bytes_up\"],\n",
    "    bins=smart_tv_hist_bin,\n",
    "    color=\"blue\",\n",
    "    alpha=0.5,\n",
    "    edgecolor=\"black\",\n",
    ")\n",
    "plt.xlabel(\"Log Bytes Up\")\n",
    "plt.ylabel(\"Frequência\")\n",
    "plt.title(\"Histograma de Frequência x Log Bytes Up (Smart TV)\")\n",
    "fig.savefig(\n",
    "    \"Gráficos\\secao2\\Histograma\\SmartTV\\smart_tv_hist_log_bytes_up.png\", \n",
    "    dpi=fig.dpi\n",
    ")\n",
    "plt.show()"
   ]
  },
  {
   "attachments": {},
   "cell_type": "markdown",
   "metadata": {},
   "source": [
    "### Histograma Frequência x Log₁₀(Bytes down)"
   ]
  },
  {
   "attachments": {},
   "cell_type": "markdown",
   "metadata": {},
   "source": [
    "#### Chromecast"
   ]
  },
  {
   "cell_type": "code",
   "execution_count": null,
   "metadata": {
    "colab": {
     "base_uri": "https://localhost:8080/",
     "height": 295
    },
    "id": "AOubm1smGqUk",
    "outputId": "bdd7b041-5763-47c1-b3b6-a566717b0ba8"
   },
   "outputs": [],
   "source": [
    "chromecast_hist_bin = sturges(dados_chromecast[\"log_bytes_down\"])\n",
    "fig = plt.figure()\n",
    "plt.hist(\n",
    "    dados_chromecast[\"log_bytes_down\"],\n",
    "    bins=chromecast_hist_bin,\n",
    "    color=\"orange\",\n",
    "    alpha=0.5,\n",
    "    edgecolor=\"black\",\n",
    ")\n",
    "plt.xlabel(\"Log Bytes Down\")\n",
    "plt.ylabel(\"Frequência\")\n",
    "plt.title(\"Histograma de Log Bytes Down x Frequência (Chromecast)\")\n",
    "fig.savefig(\n",
    "    \"Gráficos\\secao2\\Histograma\\Chromecast\\chromecast_hist_log_bytes_down.png\", \n",
    "    dpi=fig.dpi\n",
    ")\n",
    "plt.show()"
   ]
  },
  {
   "attachments": {},
   "cell_type": "markdown",
   "metadata": {},
   "source": [
    "#### SmartTV"
   ]
  },
  {
   "cell_type": "code",
   "execution_count": null,
   "metadata": {},
   "outputs": [],
   "source": [
    "smart_tv_hist_bin = sturges(dados_smartTv[\"log_bytes_down\"])\n",
    "fig = plt.figure()\n",
    "plt.hist(\n",
    "    dados_smartTv[\"log_bytes_down\"],\n",
    "    bins=smart_tv_hist_bin,\n",
    "    color=\"orange\",\n",
    "    alpha=0.5,\n",
    "    edgecolor=\"black\",\n",
    ")\n",
    "plt.xlabel(\"Log Bytes Down\")\n",
    "plt.ylabel(\"Frequência\")\n",
    "plt.title(\"Histograma de Frequência x Log Bytes Down (Smart TV)\")\n",
    "fig.savefig(\n",
    "    \"Gráficos\\secao2\\Histograma\\SmartTV\\smart_tv_hist_log_bytes_down.png\", \n",
    "    dpi=fig.dpi\n",
    ")\n",
    "plt.show()"
   ]
  },
  {
   "attachments": {},
   "cell_type": "markdown",
   "metadata": {},
   "source": [
    "## Distribuição Empírica"
   ]
  },
  {
   "attachments": {},
   "cell_type": "markdown",
   "metadata": {},
   "source": [
    "### Log₁₀(Bytes Up)"
   ]
  },
  {
   "attachments": {},
   "cell_type": "markdown",
   "metadata": {},
   "source": [
    "#### Chromecast"
   ]
  },
  {
   "cell_type": "code",
   "execution_count": null,
   "metadata": {
    "colab": {
     "base_uri": "https://localhost:8080/",
     "height": 295
    },
    "id": "eJuT6aR-HQfA",
    "outputId": "c40ee274-d28c-42ab-d7f6-ae63170380c8"
   },
   "outputs": [],
   "source": [
    "fig = plt.figure()\n",
    "plt.plot(\n",
    "    dados_chromecast[\"log_bytes_up\"].sort_values(),\n",
    "    np.linspace(0, 1, len(dados_chromecast[\"log_bytes_up\"])),\n",
    "    color=\"blue\",\n",
    "    marker=\".\",\n",
    ")\n",
    "plt.xlabel(\"Log Bytes Up\")\n",
    "plt.ylabel(\"F_x(x)\")\n",
    "plt.title(\"Função de Distribuição Empírica Log Bytes Up (Chromecast)\")\n",
    "fig.savefig(\n",
    "    \"Gráficos\\secao2\\Distribuicao Empirica\\Chromecast\\chromecast_fde_log_bytes_up.png\", \n",
    "    dpi=fig.dpi\n",
    ")\n",
    "plt.show()"
   ]
  },
  {
   "attachments": {},
   "cell_type": "markdown",
   "metadata": {},
   "source": [
    "#### SmartTV"
   ]
  },
  {
   "cell_type": "code",
   "execution_count": null,
   "metadata": {},
   "outputs": [],
   "source": [
    "fig = plt.figure()\n",
    "plt.plot(\n",
    "    dados_smartTv[\"log_bytes_up\"].sort_values(),\n",
    "    np.linspace(0, 1, len(dados_smartTv[\"log_bytes_up\"])),\n",
    "    color=\"blue\",\n",
    "    marker=\".\",\n",
    ")\n",
    "plt.xlabel(\"Log Bytes Up\")\n",
    "plt.ylabel(\"F_x(x)\")\n",
    "plt.title(\"Função de Distribuição Empírica Log Bytes Up (Smart TV)\")\n",
    "fig.savefig(\n",
    "    \"Gráficos\\secao2\\Distribuicao Empirica\\SmartTV\\smart-tv_fde_log_bytes_up.png\", \n",
    "    dpi=fig.dpi\n",
    ")\n",
    "plt.show()"
   ]
  },
  {
   "attachments": {},
   "cell_type": "markdown",
   "metadata": {},
   "source": [
    "### Log₁₀(Bytes Down)"
   ]
  },
  {
   "attachments": {},
   "cell_type": "markdown",
   "metadata": {},
   "source": [
    "#### Chromecast"
   ]
  },
  {
   "cell_type": "code",
   "execution_count": null,
   "metadata": {
    "colab": {
     "base_uri": "https://localhost:8080/",
     "height": 295
    },
    "id": "rqomSn88HpFC",
    "outputId": "5a8aa0d5-4b5f-413b-f4ce-1a0b9d6b9313"
   },
   "outputs": [],
   "source": [
    "fig = plt.figure()\n",
    "plt.plot(\n",
    "    dados_chromecast[\"log_bytes_down\"].sort_values(),\n",
    "    np.linspace(0, 1, len(dados_chromecast[\"log_bytes_down\"])),\n",
    "    color=\"orange\",\n",
    "    marker=\".\",\n",
    ")\n",
    "plt.xlabel(\"Log Bytes Down\")\n",
    "plt.ylabel(\"F_x(x)\")\n",
    "plt.title(\"Função de Distribuição Empírica Log Bytes Down (Chromecast)\")\n",
    "fig.savefig(\n",
    "    \"Gráficos\\secao2\\Distribuicao Empirica\\Chromecast\\chromecast_fde_log_bytes_down.png\", \n",
    "    dpi=fig.dpi\n",
    ")\n",
    "plt.show()"
   ]
  },
  {
   "attachments": {},
   "cell_type": "markdown",
   "metadata": {},
   "source": [
    "#### SmartTV"
   ]
  },
  {
   "cell_type": "code",
   "execution_count": null,
   "metadata": {},
   "outputs": [],
   "source": [
    "fig = plt.figure()\n",
    "plt.plot(\n",
    "    dados_smartTv[\"log_bytes_down\"].sort_values(),\n",
    "    np.linspace(0, 1, len(dados_smartTv[\"log_bytes_down\"])),\n",
    "    color=\"orange\",\n",
    "    marker=\".\",\n",
    ")\n",
    "plt.xlabel(\"Log Bytes Down\")\n",
    "plt.ylabel(\"F_x(x)\")\n",
    "plt.title(\"Função de Distribuição Empírica Log Bytes Down (Smart TV)\")\n",
    "fig.savefig(\n",
    "    \"Gráficos\\secao2\\Distribuicao Empirica\\SmartTV\\smart-tv_fde_log_bytes_down.png\", \n",
    "    dpi=fig.dpi\n",
    ")\n",
    "plt.show()"
   ]
  },
  {
   "attachments": {},
   "cell_type": "markdown",
   "metadata": {},
   "source": [
    "## Boxplot"
   ]
  },
  {
   "attachments": {},
   "cell_type": "markdown",
   "metadata": {},
   "source": [
    "### Log₁₀(Bytes Up) e Log₁₀(Bytes Down)"
   ]
  },
  {
   "attachments": {},
   "cell_type": "markdown",
   "metadata": {},
   "source": [
    "#### Chromecast"
   ]
  },
  {
   "cell_type": "code",
   "execution_count": 13,
   "metadata": {
    "colab": {
     "base_uri": "https://localhost:8080/",
     "height": 281
    },
    "id": "eRX3x0wIINCR",
    "outputId": "5d9bf2e4-2038-4f79-a45a-eb2a89f9eb80"
   },
   "outputs": [
    {
     "data": {
      "image/png": "[encoded data removed]",
      "text/plain": [
       "<Figure size 640x480 with 1 Axes>"
      ]
     },
     "metadata": {},
     "output_type": "display_data"
    }
   ],
   "source": [
    "fig = plt.figure()\n",
    "plt.boxplot(\n",
    "    [dados_chromecast[\"log_bytes_up\"], dados_chromecast[\"log_bytes_down\"]],\n",
    "    labels=[\"Bytes Up\", \"Bytes Down\"],\n",
    "    patch_artist=True,\n",
    "    boxprops=dict(facecolor=\"green\", color=\"black\"),\n",
    "    medianprops=dict(color=\"black\"),\n",
    "    whiskerprops=dict(color=\"black\"),\n",
    "    capprops=dict(color=\"black\"),\n",
    ")\n",
    "plt.ylabel(\"Bytes\")\n",
    "plt.title(\"Boxplot do Log Bytes Up e Log Bytes Down (Chromecast)\")\n",
    "fig.savefig(\n",
    "    \"Gráficos\\secao2\\Boxplot\\chromecast_boxplot_log_bytes_up_down.png\",\n",
    "    dpi=fig.dpi,\n",
    ")\n",
    "plt.show()"
   ]
  },
  {
   "attachments": {},
   "cell_type": "markdown",
   "metadata": {},
   "source": [
    "#### SmartTV"
   ]
  },
  {
   "cell_type": "code",
   "execution_count": null,
   "metadata": {},
   "outputs": [],
   "source": [
    "fig = plt.figure()\n",
    "plt.boxplot(\n",
    "    [dados_smartTv[\"log_bytes_up\"], dados_smartTv[\"log_bytes_down\"]],\n",
    "    labels=[\"Bytes Up\", \"Bytes Down\"],\n",
    "    patch_artist=True,\n",
    "    boxprops=dict(facecolor=\"blue\", color=\"black\"),\n",
    "    medianprops=dict(color=\"black\"),\n",
    "    whiskerprops=dict(color=\"black\"),\n",
    "    capprops=dict(color=\"black\"),\n",
    ")\n",
    "plt.ylabel(\"Bytes\")\n",
    "plt.title(\"Boxplot do Log Bytes Up e Log Bytes Down (Smart TV)\")\n",
    "fig.savefig(\n",
    "    \"Gráficos\\secao2\\Boxplot\\smart_tv_boxplot_log_bytes_up_down.png\", \n",
    "    dpi=fig.dpi\n",
    ")\n",
    "plt.show()"
   ]
  },
  {
   "attachments": {},
   "cell_type": "markdown",
   "metadata": {},
   "source": [
    "## Média, Variância e Desvio Padrão"
   ]
  },
  {
   "attachments": {},
   "cell_type": "markdown",
   "metadata": {},
   "source": [
    "### Chromecast"
   ]
  },
  {
   "cell_type": "code",
   "execution_count": null,
   "metadata": {
    "colab": {
     "base_uri": "https://localhost:8080/",
     "height": 143
    },
    "id": "XKB6IhAmIwfX",
    "outputId": "69951a30-4170-480c-cead-7e42e6dcdae6"
   },
   "outputs": [],
   "source": [
    "chromecast_bytes_up_down_media_var_desvp = pd.DataFrame(\n",
    "    {\n",
    "        \"Log Bytes Up\": [\n",
    "            dados_chromecast[\"log_bytes_up\"].mean(),\n",
    "            dados_chromecast[\"log_bytes_up\"].var(),\n",
    "            dados_chromecast[\"log_bytes_up\"].std(),\n",
    "        ],\n",
    "        \"Log Bytes Down\": [\n",
    "            dados_chromecast[\"log_bytes_down\"].mean(),\n",
    "            dados_chromecast[\"log_bytes_down\"].var(),\n",
    "            dados_chromecast[\"log_bytes_down\"].std(),\n",
    "        ],\n",
    "    },\n",
    "    index=[\"Média\", \"Variância\", \"Desvio Padrão\"],\n",
    ")\n",
    "\n",
    "chromecast_bytes_up_down_media_var_desvp\n",
    "print(\"Media, Variância e Desvio Padrão do Log Bytes para o Chromecast\\n\")\n",
    "print(chromecast_bytes_up_down_media_var_desvp.to_markdown())"
   ]
  },
  {
   "attachments": {},
   "cell_type": "markdown",
   "metadata": {},
   "source": [
    "### SmartTV"
   ]
  },
  {
   "cell_type": "code",
   "execution_count": null,
   "metadata": {},
   "outputs": [],
   "source": [
    "smart_tv_bytes_up_down_media_var_desvp = pd.DataFrame(\n",
    "    {\n",
    "        \"Log Bytes Up\": [\n",
    "            dados_smartTv[\"log_bytes_up\"].mean(),\n",
    "            dados_smartTv[\"log_bytes_up\"].var(),\n",
    "            dados_smartTv[\"log_bytes_up\"].std(),\n",
    "        ],\n",
    "        \"Log Bytes Down\": [\n",
    "            dados_smartTv[\"log_bytes_down\"].mean(),\n",
    "            dados_smartTv[\"log_bytes_down\"].var(),\n",
    "            dados_smartTv[\"log_bytes_down\"].std(),\n",
    "        ],\n",
    "    },\n",
    "    index=[\"Média\", \"Variância\", \"Desvio Padrão\"],\n",
    ")\n",
    "smart_tv_bytes_up_down_media_var_desvp\n",
    "print(\"Media, Variância e Desvio Padrão do Log Bytes para a Smart TV\\n\")\n",
    "print(smart_tv_bytes_up_down_media_var_desvp.to_markdown())"
   ]
  },
  {
   "attachments": {},
   "cell_type": "markdown",
   "metadata": {
    "id": "weOcJfnKLuwC"
   },
   "source": [
    "# Estatísticas por Horário"
   ]
  },
  {
   "attachments": {},
   "cell_type": "markdown",
   "metadata": {},
   "source": [
    "## Boxplot"
   ]
  },
  {
   "cell_type": "code",
   "execution_count": null,
   "metadata": {
    "colab": {
     "base_uri": "https://localhost:8080/",
     "height": 1000
    },
    "id": "TeU4Sc67L2S5",
    "outputId": "19e4bf90-8677-4400-a0ee-82d80ad1028e"
   },
   "outputs": [],
   "source": [
    "for horario in range(24):\n",
    "    #Chromecast\n",
    "    fig = plt.figure()\n",
    "    plt.boxplot(\n",
    "        [\n",
    "            dados_chromecast[dados_chromecast[\"hour\"] == horario][\"log_bytes_up\"],\n",
    "            dados_chromecast[dados_chromecast[\"hour\"] == horario][\"log_bytes_down\"],\n",
    "        ],\n",
    "        labels=[\"Log Bytes Up\", \"Log Bytes Down\"],\n",
    "        patch_artist=True,\n",
    "        boxprops = dict(facecolor = \"yellow\", color = \"black\"),\n",
    "        medianprops = dict(color = \"black\"),\n",
    "        whiskerprops = dict(color = \"black\"),\n",
    "        capprops = dict(color = \"black\"),\n",
    "    )\n",
    "    plt.ylabel(\"Log Bytes\")\n",
    "    plt.title(\"Boxplot de Log Bytes Up e Log Bytes Down para o valor de hora:\" + str(horario))\n",
    "    fig.savefig(\n",
    "        f\"Gráficos\\secao3\\Boxplot\\Chromecast\\chromecast_boxplot_log_bytes_up_down_horario_{horario}.png\",\n",
    "        dpi=fig.dpi,\n",
    "    )\n",
    "    plt.show()\n",
    "\n",
    "\n",
    "    #SmartTV\n",
    "    fig = plt.figure()\n",
    "    plt.boxplot(\n",
    "        [\n",
    "            dados_smartTv[dados_smartTv[\"hour\"] == horario][\"log_bytes_up\"],\n",
    "            dados_smartTv[dados_smartTv[\"hour\"] == horario][\"log_bytes_down\"],\n",
    "        ],\n",
    "        labels=[\"Log Bytes Up\", \"Log Bytes Down\"],\n",
    "        patch_artist=True,\n",
    "        boxprops=dict(facecolor=\"orange\", color=\"black\"),\n",
    "        medianprops=dict(color=\"black\"),\n",
    "        whiskerprops=dict(color=\"black\"),\n",
    "        capprops=dict(color=\"black\"),\n",
    "    )\n",
    "    plt.ylabel(\"Log Bytes\")\n",
    "    plt.title(\"Boxplot do Log Bytes Up  Log Bytes Down no horario:\" + str(horario))\n",
    "    fig.savefig(\n",
    "        f\"Gráficos\\secao3\\Boxplot\\SmartTV\\smart_tv_boxplot_log_bytes_up_down_hour_{horario}.png\",\n",
    "        dpi=fig.dpi,\n",
    "    )\n",
    "    plt.show()"
   ]
  },
  {
   "attachments": {},
   "cell_type": "markdown",
   "metadata": {},
   "source": [
    "## Média, Variância e Desvio Padrão"
   ]
  },
  {
   "cell_type": "code",
   "execution_count": null,
   "metadata": {
    "colab": {
     "base_uri": "https://localhost:8080/",
     "height": 295
    },
    "id": "4ctoc4MHMWrt",
    "outputId": "53ff65c0-5094-4904-854c-45cb92f62fac"
   },
   "outputs": [],
   "source": [
    "#Chromecast\n",
    "fig = plt.figure()\n",
    "plt.plot(dados_chromecast.groupby(\"hour\")[\"log_bytes_up\"].mean(), color=\"red\", marker=\".\")\n",
    "plt.plot(dados_chromecast.groupby(\"hour\")[\"log_bytes_up\"].var(), color=\"green\", marker=\".\")\n",
    "plt.plot(dados_chromecast.groupby(\"hour\")[\"log_bytes_up\"].std(), color=\"blue\", marker=\".\")\n",
    "plt.xlabel(\"Horario\")\n",
    "plt.ylabel(\"Log Bytes\")\n",
    "plt.legend([\"Média\", \"Variância\", \"Desvio Padrão\"])\n",
    "plt.title(\"Log Bytes Up Média, Variância e Desvio Padrão por horario (Chromecast)\")\n",
    "fig.savefig(\n",
    "    \"Gráficos\\secao3\\Media_Var_Desvp\\chromecast_estatisticas_log_bytes_up_harario.png\",\n",
    "\n",
    "    dpi=fig.dpi,\n",
    ")\n",
    "plt.show()\n",
    "\n",
    "\n",
    "#SmartTV\n",
    "fig = plt.figure()\n",
    "plt.plot(dados_smartTv.groupby(\"hour\")[\"log_bytes_up\"].mean(), color=\"red\", marker=\".\")\n",
    "plt.plot(dados_smartTv.groupby(\"hour\")[\"log_bytes_up\"].var(), color=\"green\", marker=\".\")\n",
    "\n",
    "plt.plot(dados_smartTv.groupby(\"hour\")[\"log_bytes_up\"].std(), color=\"blue\", marker=\".\")\n",
    "\n",
    "\n",
    "plt.xlabel(\"Horario\")\n",
    "plt.ylabel(\"Log Bytes\")\n",
    "plt.legend([\"Média\", \"Variância\", \"Desvio Padrão\"])\n",
    "plt.title(\"Log Bytes Up Média, Variância e Desvio Padrão por horario (Smart TV\")\n",
    "fig.savefig(\n",
    "    \"Gráficos\\secao3\\Media_Var_Desvp\\smart-tv_estatisticas_log_bytes_up_harario.png\",\n",
    "    dpi=fig.dpi,\n",
    ")"
   ]
  },
  {
   "attachments": {},
   "cell_type": "markdown",
   "metadata": {
    "id": "M2ChZbMQmCi-"
   },
   "source": [
    "# Caracterizando os horários com maior valor de tráfego"
   ]
  },
  {
   "attachments": {},
   "cell_type": "markdown",
   "metadata": {},
   "source": [
    "## Filtragem dos Dados Necessários"
   ]
  },
  {
   "attachments": {},
   "cell_type": "markdown",
   "metadata": {},
   "source": [
    "### Chromecast"
   ]
  },
  {
   "cell_type": "code",
   "execution_count": 42,
   "metadata": {
    "id": "QBiXzxkumK4B"
   },
   "outputs": [],
   "source": [
    "horario_com_mediana_maxima_Bup_chromecast = dados_chromecast.groupby(\"hour\")[\"bytes_up\"].median().idxmax()\n",
    "horario_com_media_maxima_Bup_chromecast = dados_chromecast.groupby(\"hour\")[\"bytes_up\"].mean().idxmax()\n",
    "horario_com_mediana_maxima_Bdown_chromecast = dados_chromecast.groupby(\"hour\")[\"bytes_down\"].median().idxmax()\n",
    "horario_com_media_maxima_Bdown_chromecast = dados_chromecast.groupby(\"hour\")[\"bytes_down\"].mean().idxmax()"
   ]
  },
  {
   "cell_type": "code",
   "execution_count": 45,
   "metadata": {},
   "outputs": [],
   "source": [
    "df_horario_maximo_chromecast = pd.DataFrame(\n",
    "    {\n",
    "        \"Hour of Max Median\": [\n",
    "            horario_com_mediana_maxima_Bup_chromecast,\n",
    "            horario_com_mediana_maxima_Bdown_chromecast,\n",
    "        ],\n",
    "        \"Hour of Max Mean\": [horario_com_media_maxima_Bup_chromecast, horario_com_media_maxima_Bdown_chromecast],\n",
    "    },\n",
    "    index=[\"Log(Bytes Up)\", \"Log(Bytes Down)\"],\n",
    ")"
   ]
  },
  {
   "cell_type": "code",
   "execution_count": 46,
   "metadata": {},
   "outputs": [],
   "source": [
    "df_mediana_up_maxima_chromecast = dados_chromecast[\n",
    "    (dados_chromecast[\"hour\"] == horario_com_mediana_maxima_Bup_chromecast)\n",
    "][[\"hour\", \"bytes_up\", \"log_bytes_up\", \"device_id\"]]\n",
    "\n",
    "df_media_up_maxima_chromecast = dados_chromecast[\n",
    "    (dados_chromecast[\"hour\"] == horario_com_media_maxima_Bup_chromecast)\n",
    "][[\"hour\", \"bytes_up\", \"log_bytes_up\", \"device_id\"]]\n",
    "\n",
    "df_mediana_down_maxima_chromecast = dados_chromecast[\n",
    "    (dados_chromecast[\"hour\"] == horario_com_mediana_maxima_Bdown_chromecast)\n",
    "][[\"hour\", \"bytes_down\", \"log_bytes_down\", \"device_id\"]]\n",
    "\n",
    "df_media_down_maxima_chromecast = dados_chromecast[\n",
    "    (dados_chromecast[\"hour\"] == horario_com_media_maxima_Bdown_chromecast)\n",
    "][[\"hour\", \"bytes_down\", \"log_bytes_down\", \"device_id\"]]"
   ]
  },
  {
   "attachments": {},
   "cell_type": "markdown",
   "metadata": {},
   "source": [
    "### SmartTV"
   ]
  },
  {
   "cell_type": "code",
   "execution_count": 40,
   "metadata": {},
   "outputs": [],
   "source": [
    "horario_com_mediana_maxima_Bup_smart = dados_smartTv.groupby(\"hour\")[\"bytes_up\"].median().idxmax()\n",
    "horario_com_media_maxima_Bup_smart = dados_smartTv.groupby(\"hour\")[\"bytes_up\"].mean().idxmax()\n",
    "horario_com_mediana_maxima_Bdown_smart = dados_smartTv.groupby(\"hour\")[\"bytes_down\"].median().idxmax()\n",
    "horario_com_media_maxima_Bdown_smart = dados_smartTv.groupby(\"hour\")[\"bytes_down\"].mean().idxmax()"
   ]
  },
  {
   "cell_type": "code",
   "execution_count": null,
   "metadata": {},
   "outputs": [],
   "source": [
    "df_horario_maximo_smart = pd.DataFrame(\n",
    "    {\n",
    "        \"Hour of Max Median\": [\n",
    "            horario_com_mediana_maxima_Bup_smart,\n",
    "            horario_com_mediana_maxima_Bdown_smart,\n",
    "        ],\n",
    "        \"Hour of Max Mean\": [horario_com_media_maxima_Bup_smart, horario_com_media_maxima_Bdown_smart],\n",
    "    },\n",
    "    index=[\"Log(Bytes Up)\", \"Log(Bytes Down)\"],\n",
    ")"
   ]
  },
  {
   "cell_type": "code",
   "execution_count": null,
   "metadata": {},
   "outputs": [],
   "source": [
    "df_mediana_up_maxima_smart = dados_smartTv[\n",
    "    (dados_smartTv[\"hour\"] == horario_com_mediana_maxima_Bup_smart)\n",
    "][[\"hour\", \"bytes_up\", \"log_bytes_up\", \"device_id\"]]\n",
    "\n",
    "df_media_up_maxima_smart = dados_smartTv[\n",
    "    (dados_smartTv[\"hour\"] == horario_com_media_maxima_Bup_smart)\n",
    "][[\"hour\", \"bytes_up\", \"log_bytes_up\", \"device_id\"]]\n",
    "\n",
    "df_mediana_down_maxima_smart = dados_smartTv[\n",
    "    (dados_smartTv[\"hour\"] == horario_com_mediana_maxima_Bdown_smart)\n",
    "][[\"hour\", \"bytes_down\", \"log_bytes_down\", \"device_id\"]]\n",
    "\n",
    "df_media_down_maxima_smart = dados_smartTv[\n",
    "    (dados_smartTv[\"hour\"] == horario_com_media_maxima_Bdown_smart)\n",
    "][[\"hour\", \"bytes_down\", \"log_bytes_down\", \"device_id\"]]"
   ]
  },
  {
   "attachments": {},
   "cell_type": "markdown",
   "metadata": {},
   "source": [
    "## Histograma"
   ]
  },
  {
   "attachments": {},
   "cell_type": "markdown",
   "metadata": {},
   "source": [
    "### Chromecast"
   ]
  },
  {
   "cell_type": "code",
   "execution_count": null,
   "metadata": {},
   "outputs": [],
   "source": [
    "lista_dfs = [(df_mediana_up_maxima_chromecast, \"log_bytes_up\", \" Mediana Maxima Log(Bytes Up) Chromecast\", \"chromecast_mediana_maxima_up\"),\n",
    "    (df_mediana_down_maxima_chromecast, \"log_bytes_down\", \"Mediana Maxima Log(Bytes Down) Chromecast\", \"chromecast_mediana_maxima_down\"),\n",
    "    (df_media_up_maxima_chromecast, \"log_bytes_up\", \"Media Maxima Log(Bytes Up) Chromecast\", \"chromecast_media_maxima_up\"),\n",
    "    (df_media_down_maxima_chromecast, \"log_bytes_down\", \"Media Maxima Log(Bytes Down) ChromeCast\", \"chromecast_media_maxima_down\"),\n",
    "]\n",
    "\n",
    "for df, coluna, nome, nome_da_figura in lista_dfs:\n",
    "    chromecast_hist_bin = sturges(df[coluna])\n",
    "    fig = plt.figure()\n",
    "    plt.hist(\n",
    "        df[coluna],\n",
    "        bins=chromecast_hist_bin,\n",
    "        color=(\"yellow\" if coluna == \"log_bytes_up\" else \"blue\"),\n",
    "        alpha=0.5,\n",
    "        edgecolor=\"black\",\n",
    "    )\n",
    "    plt.xlabel(\"Log(Bytes Up)\" if coluna == \"log_bytes_up\" else \"Log(Bytes Down)\")\n",
    "    plt.ylabel(\"Frequência\")\n",
    "    plt.title(f\"Histograma da {nome} no horario {df['hour'].iloc[0]}\")\n",
    "    fig.savefig(\n",
    "        f\"Gráficos\\secao4\\Histograma\\Chromecast\\chromecast_hist_{nome_da_figura}.png\",\n",
    "        dpi=fig.dpi,\n",
    "    )"
   ]
  },
  {
   "attachments": {},
   "cell_type": "markdown",
   "metadata": {},
   "source": [
    "### SmartTV"
   ]
  },
  {
   "cell_type": "code",
   "execution_count": null,
   "metadata": {},
   "outputs": [],
   "source": [
    "lista_dfs = [(df_mediana_up_maxima_smart, \"log_bytes_up\", \" Mediana Maxima Log(Bytes Up) Smart TV\", \"smart-tv_mediana_maxima_up\"),\n",
    "    (df_mediana_down_maxima_smart, \"log_bytes_down\", \"Mediana Maxima Log(Bytes Down) Smart TV\", \"smart-tv_mediana_maxima_down\"),\n",
    "    (df_media_up_maxima_smart, \"log_bytes_up\", \"Media Maxima Log(Bytes Up) Smart TV\", \"smart-tv_media_maxima_up\"),\n",
    "    (df_media_down_maxima_smart, \"log_bytes_down\", \"Media Maxima Log(Bytes Down) Smart TV\", \"smart-tv_media_maxima_down\"),\n",
    "]\n",
    "\n",
    "for df, coluna, nome, nome_da_figura in lista_dfs:\n",
    "    smart_hist_bin = sturges(df[coluna])\n",
    "    fig = plt.figure()\n",
    "    plt.hist(\n",
    "        df[coluna],\n",
    "        bins= smart_hist_bin,\n",
    "        color=(\"yellow\" if coluna == \"log_bytes_up\" else \"blue\"),\n",
    "        alpha=0.5,\n",
    "        edgecolor=\"black\",\n",
    "    )\n",
    "    plt.xlabel(\"Log(Bytes Up)\" if coluna == \"log_bytes_up\" else \"Log(Bytes Down)\")\n",
    "    plt.ylabel(\"Frequência\")\n",
    "    plt.title(f\"Histograma da {nome} no horario {df['hour'].iloc[0]}\")\n",
    "    fig.savefig(\n",
    "        f\"Gráficos\\secao4\\Histograma\\SmartTV\\hist_{nome_da_figura}.png\",\n",
    "        dpi=fig.dpi,\n",
    "    )"
   ]
  },
  {
   "attachments": {},
   "cell_type": "markdown",
   "metadata": {},
   "source": [
    "## MLE"
   ]
  },
  {
   "attachments": {},
   "cell_type": "markdown",
   "metadata": {},
   "source": [
    "### Gamma"
   ]
  },
  {
   "attachments": {},
   "cell_type": "markdown",
   "metadata": {},
   "source": [
    "#### Chormecast"
   ]
  },
  {
   "cell_type": "code",
   "execution_count": null,
   "metadata": {
    "colab": {
     "base_uri": "https://localhost:8080/",
     "height": 1000
    },
    "id": "vWheUe_mp4_U",
    "outputId": "bd0c08a0-243a-4b01-ebe3-ac6810659bb7"
   },
   "outputs": [],
   "source": [
    "lista_dfs = [\n",
    "    (df_mediana_up_maxima_chromecast, \"log_bytes_up\", \"Mediana Maxima Log(Bytes Up) Chromecast\"),\n",
    "    (df_media_down_maxima_chromecast, \"log_bytes_down\", \"Mediana Maxima Log(Bytes Down) Chromecast\"),\n",
    "    (df_media_up_maxima_chromecast, \"log_bytes_up\", \"Media Maxima Log(Bytes Up) Chromecast\"),\n",
    "    (df_media_down_maxima_chromecast, \"log_bytes_down\", \"Media Maxima Log(Bytes Down) ChromeCast\"),\n",
    "]\n",
    "\n",
    "for df, coluna, nome in lista_dfs:\n",
    "    shape, loc, scale = gamma.fit(df[coluna])\n",
    "    df_gamma = pd.DataFrame(\n",
    "        {\n",
    "            \"shape\": [shape], \n",
    "            \"loc\": [loc], \n",
    "            \"scale\": [scale]\n",
    "        }\n",
    "    )\n",
    "    print(f\"Distribuição Gamm para a {nome} no horario {df['hour'].iloc[0]}\\n\")\n",
    "    print(df_gamma.to_markdown())\n",
    "    print()"
   ]
  },
  {
   "attachments": {},
   "cell_type": "markdown",
   "metadata": {},
   "source": [
    "#### SmartTV"
   ]
  },
  {
   "cell_type": "code",
   "execution_count": null,
   "metadata": {},
   "outputs": [],
   "source": [
    "lista_dfs = [\n",
    "    (df_mediana_up_maxima_smart, \"log_bytes_up\", \"Mediana Maxima Log(Bytes Up) Smart TV\"),\n",
    "    (df_media_down_maxima_smart, \"log_bytes_down\", \"Mediana Maxima Log(Bytes Down) Smart TV\"),\n",
    "    (df_media_up_maxima_smart, \"log_bytes_up\", \"Media Maxima Log(Bytes Up) Smart TV\"),\n",
    "    (df_media_down_maxima_smart, \"log_bytes_down\", \"Media Maxima Log(Bytes Down) Smart TV\"),\n",
    "]\n",
    "\n",
    "for df, coluna, nome in lista_dfs:\n",
    "    shape, loc, scale = gamma.fit(df[coluna])\n",
    "    df_gamma = pd.DataFrame(\n",
    "        {\n",
    "            \"shape\": [shape], \n",
    "            \"loc\": [loc], \n",
    "            \"scale\": [scale]\n",
    "        }\n",
    "    )\n",
    "    print(f\"Distribuição Gamm para a {nome} no horario {df['hour'].iloc[0]}\\n\")\n",
    "    print(df_gamma.to_markdown())\n",
    "    print()"
   ]
  },
  {
   "attachments": {},
   "cell_type": "markdown",
   "metadata": {},
   "source": [
    "### Gaussian"
   ]
  },
  {
   "attachments": {},
   "cell_type": "markdown",
   "metadata": {},
   "source": [
    "#### Chromecast"
   ]
  },
  {
   "cell_type": "code",
   "execution_count": null,
   "metadata": {},
   "outputs": [],
   "source": [
    "lista_dfs = [\n",
    "    (df_mediana_up_maxima_chromecast, \"log_bytes_up\", \"Mediana Maxima Log(Bytes Up) Chromecast\"),\n",
    "    (df_media_down_maxima_chromecast, \"log_bytes_down\", \"Mediana Maxima Log(Bytes Down) Chromecast\"),\n",
    "    (df_media_up_maxima_chromecast, \"log_bytes_up\", \"Media Maxima Log(Bytes Up) Chromecast\"),\n",
    "    (df_media_down_maxima_chromecast, \"log_bytes_down\", \"Media Maxima Log(Bytes Down) ChromeCast\"),\n",
    "]\n",
    "for df, coluna, nome in lista_dfs:\n",
    "    df_media_mediana = pd.DataFrame(\n",
    "        {\n",
    "            \"mean\": [df[coluna].mean()], \n",
    "            \"median\": [df[coluna].median()]\n",
    "        }\n",
    "    )\n",
    "\n",
    "    print(f\"Distribuição Gaussiana para a {nome} no horario {df['hour'].iloc[0]}\")\n",
    "    print(df_media_mediana.to_markdown())\n",
    "    print()"
   ]
  },
  {
   "attachments": {},
   "cell_type": "markdown",
   "metadata": {},
   "source": [
    "#### SmartTV"
   ]
  },
  {
   "cell_type": "code",
   "execution_count": null,
   "metadata": {},
   "outputs": [],
   "source": [
    "lista_dfs = [\n",
    "    (df_mediana_up_maxima_smart, \"log_bytes_up\", \"Mediana Maxima Log(Bytes Up) Smart TV\"),\n",
    "    (df_media_down_maxima_smart, \"log_bytes_down\", \"Mediana Maxima Log(Bytes Down) Smart TV\"),\n",
    "    (df_media_up_maxima_smart, \"log_bytes_up\", \"Media Maxima Log(Bytes Up) Smart TV\"),\n",
    "    (df_media_down_maxima_smart, \"log_bytes_down\", \"Media Maxima Log(Bytes Down) Smart TV\"),\n",
    "]\n",
    "for df, coluna, nome in lista_dfs:\n",
    "    df_media_mediana = pd.DataFrame(\n",
    "        {\n",
    "            \"mean\": [df[coluna].mean()], \n",
    "            \"median\": [df[coluna].median()]\n",
    "        }\n",
    "    )\n",
    "\n",
    "    print(f\"Distribuição Gaussiana para a {nome} no horario {df['hour'].iloc[0]}\")\n",
    "    print(df_media_mediana.to_markdown())\n",
    "    print()"
   ]
  },
  {
   "attachments": {},
   "cell_type": "markdown",
   "metadata": {},
   "source": [
    "## Histograma com o MLE"
   ]
  },
  {
   "attachments": {},
   "cell_type": "markdown",
   "metadata": {},
   "source": [
    "### Chromecast"
   ]
  },
  {
   "cell_type": "code",
   "execution_count": null,
   "metadata": {},
   "outputs": [],
   "source": [
    "lista_dfs = [\n",
    "    (df_mediana_up_maxima_chromecast, \"log_bytes_up\", \"Mediana Maxima Log(Bytes Up) Chromecast\", \"log_bytes_up_max_median\"),\n",
    "    (df_mediana_down_maxima_chromecast, \"log_bytes_down\", \"Mediana Maxima Log(Bytes Down) Chromecast\", \"log_bytes_down_max_median\"),\n",
    "    (df_media_up_maxima_chromecast, \"log_bytes_up\", \"Media Maxima Log(Bytes Up) Chromecast\", \"log_bytes_up_max_mean\"),\n",
    "    (df_media_down_maxima_chromecast, \"log_bytes_down\", \"Media Maxima Log(Bytes Down) Chromecast\", \"log_bytes_down_max_mean\"),\n",
    "]\n",
    "\n",
    "\n",
    "for df, coluna, nome, nome_da_coluna in lista_dfs:\n",
    "    fig = plt.figure()\n",
    "    chromecast_hist_bin = sturges(df[coluna])\n",
    "    plt.hist(\n",
    "        df[coluna],\n",
    "        bins=chromecast_hist_bin,\n",
    "        color=(\"yellow\" if coluna == \"log_bytes_up\" else \"blue\"),\n",
    "        alpha=0.5,\n",
    "        edgecolor=\"black\",\n",
    "        label=\"Histograma\",\n",
    "        density=True,\n",
    "    )\n",
    "\n",
    "    x = np.linspace(df[coluna].min(), df[coluna].max(), len(df[coluna]))\n",
    "\n",
    "    shape, loc, scale = gamma.fit(df[coluna])\n",
    "    gamma_distribution = gamma.pdf(x, shape, loc, scale)\n",
    "\n",
    "    mean, std = norm.fit(df[coluna])\n",
    "    gaussian_distribution = norm.pdf(x, mean, std)\n",
    "\n",
    "    plt.plot(x, gamma_distribution, label=\"Gamma\", color=\"red\")\n",
    "    plt.plot(x, gaussian_distribution, label=\"Gaussian\", color=\"green\")\n",
    "    plt.xlabel(\"Log(Bytes Up)\" if coluna == \"log_bytes_up\" else \"Log(Bytes Down)\")\n",
    "    plt.ylabel(\"Frequência\")\n",
    "    plt.title(f\"Histogram da {nome} no horario {df['hour'].iloc[0]}\")\n",
    "    plt.legend(loc=\"best\")\n",
    "    fig.savefig(\n",
    "        f\"Gráficos\\secao4\\MLE\\Histograma\\Chromecast\\chromecast_hist_mle_{nome_da_coluna}.png\",\n",
    "        dpi=fig.dpi,\n",
    "    )"
   ]
  },
  {
   "attachments": {},
   "cell_type": "markdown",
   "metadata": {},
   "source": [
    "### SmartTV"
   ]
  },
  {
   "cell_type": "code",
   "execution_count": null,
   "metadata": {},
   "outputs": [],
   "source": [
    "lista_dfs = [\n",
    "    (df_mediana_up_maxima_smart, \"log_bytes_up\", \"Mediana Maxima Log(Bytes Up) Smart TV\", \"log_bytes_up_max_median\"),\n",
    "    (df_mediana_down_maxima_smart, \"log_bytes_down\", \"Mediana Maxima Log(Bytes Down) Smart TV\", \"log_bytes_down_max_median\"),\n",
    "    (df_media_up_maxima_smart, \"log_bytes_up\", \"Media Maxima Log(Bytes Up) Smart TV\", \"log_bytes_up_max_mean\"),\n",
    "    (df_media_down_maxima_smart, \"log_bytes_down\", \"Media Maxima Log(Bytes Down) Smart TV\", \"log_bytes_down_max_mean\"),\n",
    "]\n",
    "\n",
    "\n",
    "for df, coluna, nome, nome_da_coluna in lista_dfs:\n",
    "    fig = plt.figure()\n",
    "    smart_hist_bin = sturges(df[coluna])\n",
    "    plt.hist(\n",
    "        df[coluna],\n",
    "        bins= smart_hist_bin,\n",
    "        color=(\"yellow\" if coluna == \"log_bytes_up\" else \"blue\"),\n",
    "        alpha=0.5,\n",
    "        edgecolor=\"black\",\n",
    "        label=\"Histograma\",\n",
    "        density=True,\n",
    "    )\n",
    "\n",
    "    x = np.linspace(df[coluna].min(), df[coluna].max(), len(df[coluna]))\n",
    "\n",
    "    shape, loc, scale = gamma.fit(df[coluna])\n",
    "    gamma_distribution = gamma.pdf(x, shape, loc, scale)\n",
    "\n",
    "    mean, std = norm.fit(df[coluna])\n",
    "    gaussian_distribution = norm.pdf(x, mean, std)\n",
    "\n",
    "    plt.plot(x, gamma_distribution, label=\"Gamma\", color=\"red\")\n",
    "    plt.plot(x, gaussian_distribution, label=\"Gaussian\", color=\"green\")\n",
    "    plt.xlabel(\"Log(Bytes Up)\" if coluna == \"log_bytes_up\" else \"Log(Bytes Down)\")\n",
    "    plt.ylabel(\"Frequência\")\n",
    "    plt.title(f\"Histogram da {nome} no horario {df['hour'].iloc[0]}\")\n",
    "    plt.legend(loc=\"best\")\n",
    "    fig.savefig(\n",
    "        f\"Gráficos\\secao4\\MLE\\Histograma\\SmartTV\\smart-tv_hist_mle_{nome_da_coluna}.png\",\n",
    "        dpi=fig.dpi,\n",
    "    )"
   ]
  },
  {
   "attachments": {},
   "cell_type": "markdown",
   "metadata": {},
   "source": [
    "## Gráfico Probability Plot"
   ]
  },
  {
   "attachments": {},
   "cell_type": "markdown",
   "metadata": {},
   "source": [
    "### Chromecast"
   ]
  },
  {
   "cell_type": "code",
   "execution_count": null,
   "metadata": {},
   "outputs": [],
   "source": [
    "for df, column, name, figure_name in [\n",
    "    (df_chromecast_max_median_up, \"log_bytes_up\", \"Smart TV Max Median Log₁₀(Uploaded Bytes)\", \"chromecast_max_median_up\"),\n",
    "    (df_chromecast_max_median_down, \"log_bytes_down\", \"Smart TV Max Median Log₁₀(Downloaded Bytes)\", \"chromecast_max_median_down\"),\n",
    "    (df_chromecast_max_mean_up, \"log_bytes_up\", \"Smart TV Max Mean Log₁₀(Uploaded Bytes)\", \"chromecast_max_mean_up\"),\n",
    "    (df_chromecast_max_mean_down, \"log_bytes_down\", \"Smart TV Max Mean Log₁₀(Downloaded Bytes)\", \"chromecast_max_mean_down\"),\n",
    "]:\n",
    "\n",
    "    fig, axes = plt.subplots(1, 2, figsize=(18, 5))\n",
    "\n",
    "    fig.suptitle(f\"Probability Plot for {name} (Hour {df['hour'].iloc[0]})\")\n",
    "\n",
    "    x = df[column]\n",
    "    probplot(x, dist=gamma, sparams=(shape, loc, scale), plot=axes[0])\n",
    "    probplot(x, dist=norm, sparams=(df[column].mean(), df[column].std()), plot=axes[1])\n",
    "\n",
    "    axes[0].set_title(f\"Gamma Distribution\")\n",
    "    axes[1].set_title(f\"Gaussian Distribution\")\n",
    "\n",
    "    axes[0].set(xlabel=\"Theoretical Quantiles\", ylabel=\"Ordered Values\")\n",
    "    axes[1].set(xlabel=\"Theoretical Quantiles\", ylabel=\"Ordered Values\")\n",
    "\n",
    "    fig.savefig(\n",
    "        f\"probability_plot_{figure_name}.png\",\n",
    "        dpi=fig.dpi,\n",
    "    )\n",
    "    plt.show()"
   ]
  },
  {
   "attachments": {},
   "cell_type": "markdown",
   "metadata": {},
   "source": [
    "### SmartTV"
   ]
  },
  {
   "cell_type": "code",
   "execution_count": null,
   "metadata": {},
   "outputs": [],
   "source": [
    "for df, column, name, figure_name in [\n",
    "    (df_smart_tv_max_median_up, \"log_bytes_up\", \"Smart TV Max Median Log₁₀(Uploaded Bytes)\", \"smart_tv_max_median_up\"),\n",
    "    (df_smart_tv_max_median_down, \"log_bytes_down\", \"Smart TV Max Median Log₁₀(Downloaded Bytes)\", \"smart_tv_max_median_down\"),\n",
    "    (df_smart_tv_max_mean_up, \"log_bytes_up\", \"Smart TV Max Mean Log₁₀(Uploaded Bytes)\", \"smart_tv_max_mean_up\"),\n",
    "    (df_smart_tv_max_mean_down, \"log_bytes_down\", \"Smart TV Max Mean Log₁₀(Downloaded Bytes)\", \"smart_tv_max_mean_down\"),\n",
    "]:\n",
    "\n",
    "    fig, axes = plt.subplots(1, 2, figsize=(18, 5))\n",
    "\n",
    "    fig.suptitle(f\"Probability Plot for {name} (Hour {df['hour'].iloc[0]})\")\n",
    "\n",
    "    x = df[column]\n",
    "    probplot(x, dist=gamma, sparams=(shape, loc, scale), plot=axes[0])\n",
    "    probplot(x, dist=norm, sparams=(df[column].mean(), df[column].std()), plot=axes[1])\n",
    "\n",
    "    axes[0].set_title(f\"Gamma Distribution\")\n",
    "    axes[1].set_title(f\"Gaussian Distribution\")\n",
    "\n",
    "    axes[0].set(xlabel=\"Theoretical Quantiles\", ylabel=\"Ordered Values\")\n",
    "    axes[1].set(xlabel=\"Theoretical Quantiles\", ylabel=\"Ordered Values\")\n",
    "    fig.savefig(\n",
    "        f\"probability_plot_{figure_name}.png\",\n",
    "        dpi=fig.dpi,\n",
    "    )\n",
    "    plt.show()"
   ]
  },
  {
   "attachments": {},
   "cell_type": "markdown",
   "metadata": {},
   "source": [
    "# Análise da correlação entre as taxas de upload e download para os horários com o maior valor de tráfego"
   ]
  },
  {
   "attachments": {},
   "cell_type": "markdown",
   "metadata": {},
   "source": [
    "## Coeficiente de Correlação de Amostragem"
   ]
  },
  {
   "cell_type": "code",
   "execution_count": null,
   "metadata": {},
   "outputs": [],
   "source": [
    "for df1, df2, name in [\n",
    "    (\n",
    "        df_smart_tv_max_median_up, \n",
    "        df_smart_tv_max_median_down, \n",
    "        \"Smart TV Max Median Log₁₀(Bytes)\"),\n",
    "    (\n",
    "        df_smart_tv_max_mean_up, \n",
    "        df_smart_tv_max_mean_down, \n",
    "        \"Smart TV Max Mean Log₁₀(Bytes)\"),\n",
    "    (\n",
    "        df_chromecast_max_median_up,\n",
    "        df_chromecast_max_median_down,\n",
    "        \"Chromecast Max Median Log₁₀(Bytes)\"\n",
    "    ),\n",
    "    (\n",
    "        df_chromecast_max_mean_up, \n",
    "        df_chromecast_max_mean_down, \n",
    "        \"Chromecast Max Median Log₁₀(Bytes)\"),\n",
    "]:\n",
    "    if df1.shape[0] != df2.shape[0]:\n",
    "        if df1.shape[0] > df2.shape[0]:\n",
    "            df1 = df1.sample(n=df2.shape[0])\n",
    "        else:\n",
    "            df2 = df2.sample(n=df1.shape[0])\n",
    "\n",
    "    pearson_coef, p_value = pearsonr(df1[\"log_bytes_up\"], df2[\"log_bytes_down\"])\n",
    "    df_coef = pd.DataFrame(\n",
    "        {\n",
    "            \"pearson_coef\": [pearson_coef], \n",
    "            \"p_value\": [p_value], \"name\": [name]\n",
    "        }\n",
    "    )"
   ]
  },
  {
   "attachments": {},
   "cell_type": "markdown",
   "metadata": {},
   "source": [
    "## Gráfico dos Coeficientes de Correlação de Amostragem"
   ]
  },
  {
   "cell_type": "code",
   "execution_count": null,
   "metadata": {},
   "outputs": [],
   "source": [
    "for df1, df2, title, figure_name in [\n",
    "    (\n",
    "        df_smart_tv_max_median_up,\n",
    "        df_smart_tv_max_median_down,\n",
    "        \"Smart TV Max Median Log₁₀(Uploaded Bytes) and Log₁₀(Downloaded Bytes)\",\n",
    "        \"smart_tv_max_median\",\n",
    "    ),\n",
    "    (\n",
    "        df_smart_tv_max_mean_up,\n",
    "        df_smart_tv_max_mean_down,\n",
    "        \"Smart TV Max Mean Log₁₀(Uploaded Bytes) and Log₁₀(Downloaded Bytes)\",\n",
    "        \"smart_tv_max_mean\",\n",
    "    ),\n",
    "    (\n",
    "        df_chromecast_max_median_up,\n",
    "        df_chromecast_max_median_down,\n",
    "        \"Chromecast Max Median Log₁₀(Uploaded Bytes) and Log₁₀(Downloaded Bytes)\",\n",
    "        \"chromecast_max_median\",\n",
    "    ),\n",
    "    (\n",
    "        df_chromecast_max_mean_up,\n",
    "        df_chromecast_max_mean_down,\n",
    "        \"Chromecast Max Mean Log₁₀(Uploaded Bytes) and Log₁₀(Downloaded Bytes)\",\n",
    "        \"chromecast_max_mean\",\n",
    "    ),\n",
    "]:\n",
    "    if df1.shape[0] != df2.shape[0]:\n",
    "        if df1.shape[0] > df2.shape[0]:\n",
    "            df1 = df1.sample(n=df2.shape[0])\n",
    "        else:\n",
    "            df2 = df2.sample(n=df1.shape[0])\n",
    "\n",
    "    fig = plt.figure()\n",
    "    plt.scatter(df1[\"log_bytes_up\"], df2[\"log_bytes_down\"])\n",
    "    plt.xlabel(\"Log₁₀(Uploaded Bytes)\")\n",
    "    plt.ylabel(\"Log₁₀(Downloaded Bytes)\")\n",
    "    plt.title(f\"Scatter Plot for {title}\")\n",
    "\n",
    "    folder = (\n",
    "        f\"../images/fifth_section/smart_tv\"\n",
    "        if \"smart_tv\" in figure_name\n",
    "        else f\"../images/fifth_section/chromecast\"\n",
    "    )\n",
    "\n",
    "    fig.savefig(\n",
    "        f\"{folder}/scatter_plot/scatter_plot_{figure_name}.png\",\n",
    "        dpi=fig.dpi,\n",
    "    )\n",
    "\n",
    "    plt.show()"
   ]
  },
  {
   "attachments": {},
   "cell_type": "markdown",
   "metadata": {},
   "source": [
    "# Comparação dos dados gerados pelos dispositivos SmartTV e Chromecast"
   ]
  },
  {
   "attachments": {},
   "cell_type": "markdown",
   "metadata": {},
   "source": [
    "## G-teste"
   ]
  },
  {
   "cell_type": "code",
   "execution_count": null,
   "metadata": {},
   "outputs": [],
   "source": [
    "df_g_test = pd.DataFrame(columns=[\"g_test\", \"p_value\", \"name\", \"column\"])\n",
    "\n",
    "for df1, df2, name, column in [\n",
    "    (\n",
    "        df_smart_tv_max_median_up,\n",
    "        df_chromecast_max_median_up,\n",
    "        \"smart_tv_max_median_up_chromecast_max_median_up\",\n",
    "        \"log_bytes_up\",\n",
    "    ),\n",
    "    (\n",
    "        df_smart_tv_max_mean_up,\n",
    "        df_chromecast_max_mean_up,\n",
    "        \"smart_tv_max_mean_up_chromecast_max_mean_up\",\n",
    "        \"log_bytes_up\",\n",
    "    ),\n",
    "    (\n",
    "        df_smart_tv_max_median_down,\n",
    "        df_chromecast_max_median_down,\n",
    "        \"smart_tv_max_median_down_chromecast_max_median_down\",\n",
    "        \"log_bytes_down\",\n",
    "    ),\n",
    "    (\n",
    "        df_smart_tv_max_mean_down,\n",
    "        df_chromecast_max_mean_down,\n",
    "        \"smart_tv_max_mean_down_chromecast_max_mean_down\",\n",
    "        \"log_bytes_down\",\n",
    "    ),\n",
    "]:\n",
    "    observed_upload_df1 = df1[column].value_counts()\n",
    "    observed_upload_df2 = df2[column].value_counts()\n",
    "    \n",
    "    if observed_upload_df1.shape[0] != observed_upload_df2.shape[0]:\n",
    "        if observed_upload_df1.shape[0] > observed_upload_df2.shape[0]:\n",
    "            observed_upload_df1 = observed_upload_df1.sample(n=observed_upload_df2.shape[0])\n",
    "        else:\n",
    "            observed_upload_df2 = observed_upload_df2.sample(n=observed_upload_df1.shape[0])\n",
    "\n",
    "    observed_upload_df1 = observed_upload_df1 / observed_upload_df1.sum()\n",
    "    observed_upload_df2 = observed_upload_df2 / observed_upload_df2.sum()\n",
    "    \n",
    "    g, p = power_divergence(observed_upload_df1, observed_upload_df2, lambda_='log-likelihood')\n",
    "\n",
    "    df_g_test = df_g_test.append(\n",
    "        {\n",
    "            \"g_test\": g,\n",
    "            \"p_value\": p,\n",
    "            \"name\": name,\n",
    "            \"column\": column,\n",
    "        },\n",
    "        ignore_index=True,\n",
    "    )\n",
    "\n",
    "print(df_g_test.to_markdown())"
   ]
  }
 ],
 "metadata": {
  "colab": {
   "provenance": [],
   "toc_visible": true
  },
  "kernelspec": {
   "display_name": "Python 3",
   "language": "python",
   "name": "python3"
  },
  "language_info": {
   "codemirror_mode": {
    "name": "ipython",
    "version": 3
   },
   "file_extension": ".py",
   "mimetype": "text/x-python",
   "name": "python",
   "nbconvert_exporter": "python",
   "pygments_lexer": "ipython3",
   "version": "3.8.0"
  },
  "vscode": {
   "interpreter": {
    "hash": "b47612a09bc9645fbc54fd8922e874d6e0b9edaaab4d77c3ad4edbab73b535b5"
   }
  }
 },
 "nbformat": 4,
 "nbformat_minor": 4
}
